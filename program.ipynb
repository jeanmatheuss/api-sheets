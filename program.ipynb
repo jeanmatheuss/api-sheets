{
 "cells": [
  {
   "cell_type": "markdown",
   "metadata": {},
   "source": [
    "# Yahoo Finance e API do google sheets"
   ]
  },
  {
   "cell_type": "markdown",
   "metadata": {},
   "source": [
    "# Objetivo\n",
    "A ideia do projeto é usar a API do sheets para que com os dados gerados pelo Yahoo Finance para atualizar a planilha com os seguintes dados:\n",
    "\n",
    "- *Date*: Data;\n",
    "- *Open*: O valor da ação na abertura (em dólar se for nos EUA e em real se for BR);\n",
    "- *High*: O maior valor da ação naquela data;\n",
    "- *Low*: O menor valor da ação naquela data;\n",
    "- *Close*: O valor da ação no fechamento;\n",
    "- *Volume*: Volume de ações da empresa."
   ]
  },
  {
   "cell_type": "markdown",
   "metadata": {},
   "source": [
    "# Definindo as funções para a obtenção dos dados das ações\n",
    "\n",
    "Aqui veremos as funções que usaremos *get_stocks* para obter as informação da ação e a função *stocks_df* para armazenar esses dados num dataframe para fazer o update na planilha no Google Sheets"
   ]
  },
  {
   "cell_type": "code",
   "execution_count": 1,
   "metadata": {},
   "outputs": [],
   "source": [
    "import yfinance as yf\n",
    "import pandas as pd"
   ]
  },
  {
   "cell_type": "code",
   "execution_count": 2,
   "metadata": {},
   "outputs": [],
   "source": [
    "# Função para obter os dados de cada ação\n",
    "def get_stocks(ticker: str, country: str):\n",
    "    stock_data = yf.Ticker(ticker).history(period='1day')\n",
    "    stock_data['Stock'] = [f'{ticker}']\n",
    "    stock_data['Country'] = [f'{country}']\n",
    "    stock_data = stock_data.reset_index().drop(columns=['Dividends', 'Stock Splits'])\n",
    "    stock_data['Date'] = stock_data['Date'].dt.strftime('%d-%m-%Y')\n",
    "    return stock_data\n",
    "\n",
    "# Função para fazer a ligação entre a lista de ações e o dataframe que será criado\n",
    "def stocks_df(list: dict):\n",
    "    dfs = []\n",
    "    for chave, valor in list.items():\n",
    "        for x in valor:  \n",
    "            df = get_stocks(x, chave)\n",
    "            dfs.append(df)\n",
    "    return pd.concat(dfs, ignore_index=True)\n"
   ]
  },
  {
   "cell_type": "code",
   "execution_count": 3,
   "metadata": {},
   "outputs": [],
   "source": [
    "# Agora um dicionário com as ações com maiores volumes no Brasil e nos EUA\n",
    "\n",
    "stocks = {\n",
    "    'BR': ['PETR4.SA', 'VALE3.SA', 'BBDC4.SA', 'ITUB4.SA', 'B3SA3.SA', 'MGLU3.SA', 'ABEV3.SA', 'WEGE3.SA', 'BBAS3.SA', 'RENT3.SA'],\n",
    "    'US': ['AAPL', 'MSFT', 'AMZN', 'GOOGL', 'TSLA', 'META', 'GOOG', 'NVDA']\n",
    "}"
   ]
  },
  {
   "cell_type": "code",
   "execution_count": null,
   "metadata": {},
   "outputs": [],
   "source": [
    "# API Google\n",
    "import os.path\n",
    "\n",
    "from google.auth.transport.requests import Request\n",
    "from google.oauth2.credentials import Credentials\n",
    "from google_auth_oauthlib.flow import InstalledAppFlow\n",
    "from googleapiclient.discovery import build\n",
    "from googleapiclient.errors import HttpError\n",
    "\n",
    "# If modifying these scopes, delete the file token.json.\n",
    "SCOPES = [\"https://www.googleapis.com/auth/spreadsheets\"]\n",
    "\n",
    "# The ID and range of a sample spreadsheet.\n",
    "SAMPLE_SPREADSHEET_ID = \"insira aqui a id da planilha do sheets\"\n",
    "SAMPLE_RANGE_NAME = \"Data!A:G\"\n",
    "\n",
    "\n",
    "def main():\n",
    "  \"\"\"Shows basic usage of the Sheets API.\n",
    "  Prints values from a sample spreadsheet.\n",
    "  \"\"\"\n",
    "  creds = None\n",
    "  # The file token.json stores the user's access and refresh tokens, and is\n",
    "  # created automatically when the authorization flow completes for the first\n",
    "  # time.\n",
    "  if os.path.exists(\"token.json\"):\n",
    "    creds = Credentials.from_authorized_user_file(\"token.json\", SCOPES)\n",
    "  # If there are no (valid) credentials available, let the user log in.\n",
    "  if not creds or not creds.valid:\n",
    "    if creds and creds.expired and creds.refresh_token:\n",
    "      creds.refresh(Request())\n",
    "    else:\n",
    "      flow = InstalledAppFlow.from_client_secrets_file(\n",
    "          \"client_secret.json\", SCOPES\n",
    "      )\n",
    "      creds = flow.run_local_server(port=0)\n",
    "    # Save the credentials for the next run\n",
    "    with open(\"token.json\", \"w\") as token:\n",
    "      token.write(creds.to_json())\n",
    "\n",
    "  try:\n",
    "    service = build(\"sheets\", \"v4\", credentials=creds)\n",
    "\n",
    "    # Call the Sheets API\n",
    "    sheet = service.spreadsheets()\n",
    "    result = (\n",
    "      sheet.values()\n",
    "      .get(spreadsheetId=SAMPLE_SPREADSHEET_ID, range=SAMPLE_RANGE_NAME)\n",
    "      .execute()\n",
    "    )\n",
    "    values = result.get(\"values\", [])\n",
    "    #print(values)\n",
    "    valor = stocks_df(stocks).values.tolist()\n",
    "    \n",
    "\n",
    "    # Update values\n",
    "    result = (\n",
    "      sheet.values()\n",
    "      .update(spreadsheetId= SAMPLE_SPREADSHEET_ID, range=f'Data!A{len(values)+1}', valueInputOption=\"RAW\", body={\"values\": valor})\n",
    "      .execute()\n",
    "    )\n",
    "\n",
    "  except HttpError as err:\n",
    "    print(err)\n",
    "\n",
    "\n",
    "\n",
    "if __name__ == \"__main__\":\n",
    "  main() "
   ]
  }
 ],
 "metadata": {
  "kernelspec": {
   "display_name": "Python 3",
   "language": "python",
   "name": "python3"
  },
  "language_info": {
   "codemirror_mode": {
    "name": "ipython",
    "version": 3
   },
   "file_extension": ".py",
   "mimetype": "text/x-python",
   "name": "python",
   "nbconvert_exporter": "python",
   "pygments_lexer": "ipython3",
   "version": "3.10.11"
  }
 },
 "nbformat": 4,
 "nbformat_minor": 2
}
