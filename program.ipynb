{
 "cells": [
  {
   "cell_type": "markdown",
   "metadata": {},
   "source": [
    "# Yahoo Finance e API do google sheets"
   ]
  },
  {
   "cell_type": "markdown",
   "metadata": {},
   "source": [
    "# Objetivo\n",
    "A ideia do projeto é usar a API do sheets para que com os dados gerados pelo Yahoo Finance para atualizar a planilha com os seguintes dados:\n",
    "\n",
    "- *Date*: Data;\n",
    "- *Open*: O valor da ação na abertura (em dólar se for nos EUA e em real se for BR);\n",
    "- *High*: O maior valor da ação naquela data;\n",
    "- *Low*: O menor valor da ação naquela data;\n",
    "- *Close*: O valor da ação no fechamento;\n",
    "- *Volume*: Volume de ações da empresa."
   ]
  },
  {
   "cell_type": "markdown",
   "metadata": {},
   "source": [
    "# Definindo as funções para a obtenção dos dados das ações\n",
    "\n",
    "Aqui veremos as funções que usaremos *get_stocks* para obter as informação da ação e a função *stocks_df* para armazenar esses dados num dataframe para fazer o update na planilha no Google Sheets"
   ]
  },
  {
   "cell_type": "code",
   "execution_count": 1,
   "metadata": {},
   "outputs": [],
   "source": [
    "import yfinance as yf\n",
    "import pandas as pd"
   ]
  },
  {
   "cell_type": "code",
   "execution_count": 2,
   "metadata": {},
   "outputs": [],
   "source": [
    "# Função para obter os dados de cada ação\n",
    "def get_stocks(ticker: str, country: str):\n",
    "    stock_data = yf.Ticker(ticker).history(period='1day')\n",
    "    stock_data['Stock'] = [f'{ticker}']\n",
    "    stock_data['Country'] = [f'{country}']\n",
    "    stock_data = stock_data.reset_index().drop(columns=['Dividends', 'Stock Splits'])\n",
    "    stock_data['Date'] = stock_data['Date'].dt.strftime('%d-%m-%Y')\n",
    "    return stock_data\n",
    "\n",
    "# Função para fazer a ligação entre a lista de ações e o dataframe que será criado\n",
    "def stocks_df(list: dict):\n",
    "    dfs = []\n",
    "    for chave, valor in list.items():\n",
    "        for x in valor:  \n",
    "            df = get_stocks(x, chave)\n",
    "            dfs.append(df)\n",
    "    return pd.concat(dfs, ignore_index=True)\n"
   ]
  },
  {
   "cell_type": "code",
   "execution_count": 3,
   "metadata": {},
   "outputs": [],
   "source": [
    "# Agora um dicionário com as ações com maiores volumes no Brasil e nos EUA\n",
    "\n",
    "stocks = {\n",
    "    'BR': ['PETR4.SA', 'VALE3.SA', 'BBDC4.SA', 'ITUB4.SA', 'B3SA3.SA', 'MGLU3.SA', 'ABEV3.SA', 'WEGE3.SA', 'BBAS3.SA', 'RENT3.SA'],\n",
    "    'US': ['AAPL', 'MSFT', 'AMZN', 'GOOGL', 'TSLA', 'META', 'GOOG', 'NVDA']\n",
    "}"
   ]
  },
  {
   "cell_type": "code",
   "execution_count": 5,
   "metadata": {},
   "outputs": [
    {
     "name": "stdout",
     "output_type": "stream",
     "text": [
      "Please visit this URL to authorize this application: https://accounts.google.com/o/oauth2/auth?response_type=code&client_id=886193867961-irpfb7kqmrtvdrart87t1g0uo6ivsv8r.apps.googleusercontent.com&redirect_uri=http%3A%2F%2Flocalhost%3A62438%2F&scope=https%3A%2F%2Fwww.googleapis.com%2Fauth%2Fspreadsheets&state=YHAFsNwENufKS5yvPw16b3PWgs3VgN&access_type=offline\n",
      "[['Date', 'Open', 'High', 'Low', 'Close', 'Volume', 'Stock'], ['12-01-2024', '186,0599976', '186,7400055', '185,1900024', '185,8800049', '19504032', 'AAPL'], ['12-01-2024', '144,3399963', '144,7398987', '143,3600006', '144,5650024', '7086644', 'GOOG'], ['12-01-2024', '385,4899902', '388,480011', '384,6499939', '388,3299866', '11111116', 'MSFT'], ['15-01-2024', '37,99000168', '38,16999817', '37,86000061', '38,13999939', '1628300', 'PETR4.SA'], ['15-01-2024', '71,22000122', '71,30000305', '70,69999695', '70,79000092', '2054300', 'VALE3.SA'], ['15-01-2024', '15,75', '15,77999973', '15,64999962', '15,69999981', '938400', 'BBDC4.SA'], ['15-01-2024', '33,36999893', '33,36999893', '33,18000031', '33,22999954', '289500', 'ITUB4.SA'], ['15-01-2024', '14,10000038', '14,10000038', '13,98999977', '14,03999996', '1241700', 'B3SA3.SA'], ['15-01-2024', '2,289999962', '2,299999952', '2,220000029', '2,24000001', '24493400', 'MGLU3.SA'], ['15-01-2024', '13,47999954', '13,55000019', '13,46000004', '13,5', '296200', 'ABEV3.SA'], ['15-01-2024', '34,66999817', '34,66999817', '34,41999817', '34,56999969', '130700', 'WEGE3.SA'], ['15-01-2024', '55,09999847', '55,27999878', '55', '55,25', '349600', 'BBAS3.SA'], ['15-01-2024', '61,00999832', '61,04000092', '59,70000076', '60,04000092', '405200', 'RENT3.SA'], ['15-01-2024', '37,99000168', '38,16999817', '37,86000061', '38,11999893', '1724600', 'PETR4.SA_br'], ['15-01-2024', '71,22000122', '71,30000305', '70,69999695', '70,73999786', '2074400', 'VALE3.SA_br'], ['15-01-2024', '15,75', '15,77999973', '15,64999962', '15,68000031', '975000', 'BBDC4.SA_br'], ['15-01-2024', '33,36999893', '33,36999893', '33,18000031', '33,20000076', '311100', 'ITUB4.SA_br'], ['15-01-2024', '14,10000038', '14,10000038', '13,98999977', '14,05000019', '1285600', 'B3SA3.SA_br'], ['15-01-2024', '2,289999962', '2,299999952', '2,220000029', '2,24000001', '25051600', 'MGLU3.SA_br'], ['15-01-2024', '13,47999954', '13,55000019', '13,46000004', '13,48999977', '312800', 'ABEV3.SA_br'], ['15-01-2024', '34,66999817', '34,66999817', '34,41999817', '34,56999969', '139500', 'WEGE3.SA_br'], ['15-01-2024', '55,09999847', '55,27999878', '55', '55,18999863', '372500', 'BBAS3.SA_br'], ['15-01-2024', '61,00999832', '61,04000092', '59,70000076', '60,02000046', '411500', 'RENT3.SA_br'], ['17-01-2024', '182,1600037', '181,5509949', '180,3000031', '180,9644012', '6804599', 'AAPL_us'], ['17-01-2024', '387,980011', '388,5499878', '384,8200073', '385,3699951', '2933231', 'MSFT_us'], ['17-01-2024', '153,5299988', '152', '150,0800934', '150,4799957', '4856620', 'AMZN_us'], ['17-01-2024', '141,3450012', '141,8399963', '139,4299927', '139,7111969', '2932543', 'GOOGL_us'], ['17-01-2024', '215,1000061', '215,5500031', '212,3450012', '214,2949982', '18058022', 'TSLA_us'], ['17-01-2024', '366,2999878', '366,9599915', '361,5', '362,5296936', '1585265', 'META_us'], ['17-01-2024', '142,9100037', '143,4100037', '141,0099945', '141,2899933', '2347724', 'GOOG_us'], ['17-01-2024', '563,4699707', '564,7067871', '550,9699707', '551,5050049', '8431686', 'NVDA_us'], ['17-01-2024', '37,97000122', '38,11999893', '37,81999969', '37,97999954', '5662300', 'PETR4.SA_br'], ['17-01-2024', '70,26999664', '70,45999908', '69,52999878', '69,77999878', '12573700', 'VALE3.SA_br'], ['17-01-2024', '15,71000004', '15,86999989', '15,65999985', '15,85999966', '5766900', 'BBDC4.SA_br'], ['17-01-2024', '32,90000153', '33,15999985', '32,84000015', '33,04999924', '6709600', 'ITUB4.SA_br'], ['17-01-2024', '13,97000027', '14', '13,73999977', '13,80000019', '4961100', 'B3SA3.SA_br'], ['17-01-2024', '2,170000076', '2,210000038', '2,160000086', '2,170000076', '30755400', 'MGLU3.SA_br'], ['17-01-2024', '13,32999992', '13,47999954', '13,32999992', '13,46000004', '1512900', 'ABEV3.SA_br'], ['17-01-2024', '33,43000031', '33,56000137', '33,16999817', '33,52000046', '791100', 'WEGE3.SA_br'], ['17-01-2024', '55,81000137', '56,09999847', '55,63000107', '55,90000153', '2157300', 'BBAS3.SA_br'], ['17-01-2024', '60,06999969', '60,83000183', '60,00999832', '60,45000076', '756900', 'RENT3.SA_br'], ['18-01-2024', '38,13999939', '38,13999939', '37,56000137', '37,72999954', '22987200', 'PETR4.SA_br'], ['18-01-2024', '70,19999695', '70,40000153', '69', '69', '30490600', 'VALE3.SA_br'], ['18-01-2024', '15,81999969', '15,81999969', '15,46000004', '15,67000008', '42665600', 'BBDC4.SA_br'], ['18-01-2024', '33,20000076', '33,20000076', '32,74000168', '32,86000061', '22607200', 'ITUB4.SA_br'], ['18-01-2024', '13,86999989', '13,93999958', '13,69999981', '13,85000038', '30560300', 'B3SA3.SA_br'], ['18-01-2024', '2,180000067', '2,210000038', '1,99000001', '2', '245451500', 'MGLU3.SA_br'], ['18-01-2024', '13,42000008', '13,42000008', '13,25', '13,34000015', '18425500', 'ABEV3.SA_br'], ['18-01-2024', '33,45000076', '33,56000137', '32,90000153', '33,13999939', '4085900', 'WEGE3.SA_br'], ['18-01-2024', '56,04999924', '56,11000061', '55,25999832', '55,34000015', '7324400', 'BBAS3.SA_br'], ['18-01-2024', '61,20999908', '61,5', '59,36000061', '59,36000061', '5815100', 'RENT3.SA_br'], ['18-01-2024', '186,0899963', '189,1399994', '185,8300018', '188,6300049', '77921000', 'AAPL'], ['18-01-2024', '391,7200012', '393,9899902', '390,1199951', '393,8699951', '23356300', 'MSFT'], ['18-01-2024', '152,7700043', '153,7799988', '151,8200073', '153,5', '37804600', 'AMZN'], ['18-01-2024', '142,0500031', '144,2100067', '141,9900055', '143,4799957', '25722800', 'GOOGL'], ['18-01-2024', '216,8800049', '217,4499969', '208,7400055', '211,8800049', '108262900', 'TSLA'], ['18-01-2024', '371,4899902', '376,8500061', '370,9500122', '376,1300049', '16322300', 'META'], ['18-01-2024', '143,4400024', '145,5850067', '143,3500061', '144,9900055', '18863000', 'GOOG'], ['18-01-2024', '572,5999756', '576', '561,0700073', '571,0700073', '48981000', 'NVDA'], ['18-01-2024', '38,13999939', '38,13999939', '37,56000137', '37,72999954', '22987200', 'PETR4.SA'], ['18-01-2024', '70,19999695', '70,40000153', '69', '69', '30490600', 'VALE3.SA'], ['18-01-2024', '15,81999969', '15,81999969', '15,46000004', '15,67000008', '42665600', 'BBDC4.SA'], ['18-01-2024', '33,20000076', '33,20000076', '32,74000168', '32,86000061', '22607200', 'ITUB4.SA'], ['18-01-2024', '13,86999989', '13,93999958', '13,69999981', '13,85000038', '30560300', 'B3SA3.SA'], ['18-01-2024', '2,180000067', '2,210000038', '1,99000001', '2', '245451500', 'MGLU3.SA'], ['18-01-2024', '13,42000008', '13,42000008', '13,25', '13,34000015', '18425500', 'ABEV3.SA'], ['18-01-2024', '33,45000076', '33,56000137', '32,90000153', '33,13999939', '4085900', 'WEGE3.SA'], ['18-01-2024', '56,04999924', '56,11000061', '55,25999832', '55,34000015', '7324400', 'BBAS3.SA'], ['18-01-2024', '61,20999908', '61,5', '59,36000061', '59,36000061', '5815100', 'RENT3.SA']]\n"
     ]
    }
   ],
   "source": [
    "# API Google\n",
    "import os.path\n",
    "\n",
    "from google.auth.transport.requests import Request\n",
    "from google.oauth2.credentials import Credentials\n",
    "from google_auth_oauthlib.flow import InstalledAppFlow\n",
    "from googleapiclient.discovery import build\n",
    "from googleapiclient.errors import HttpError\n",
    "\n",
    "# If modifying these scopes, delete the file token.json.\n",
    "SCOPES = [\"https://www.googleapis.com/auth/spreadsheets\"]\n",
    "\n",
    "# The ID and range of a sample spreadsheet.\n",
    "SAMPLE_SPREADSHEET_ID = \"insira aqui a id da planilha do sheets\"\n",
    "SAMPLE_RANGE_NAME = \"Data!A:G\"\n",
    "\n",
    "\n",
    "def main():\n",
    "  \"\"\"Shows basic usage of the Sheets API.\n",
    "  Prints values from a sample spreadsheet.\n",
    "  \"\"\"\n",
    "  creds = None\n",
    "  # The file token.json stores the user's access and refresh tokens, and is\n",
    "  # created automatically when the authorization flow completes for the first\n",
    "  # time.\n",
    "  if os.path.exists(\"token.json\"):\n",
    "    creds = Credentials.from_authorized_user_file(\"token.json\", SCOPES)\n",
    "  # If there are no (valid) credentials available, let the user log in.\n",
    "  if not creds or not creds.valid:\n",
    "    if creds and creds.expired and creds.refresh_token:\n",
    "      creds.refresh(Request())\n",
    "    else:\n",
    "      flow = InstalledAppFlow.from_client_secrets_file(\n",
    "          \"client_secret.json\", SCOPES\n",
    "      )\n",
    "      creds = flow.run_local_server(port=0)\n",
    "    # Save the credentials for the next run\n",
    "    with open(\"token.json\", \"w\") as token:\n",
    "      token.write(creds.to_json())\n",
    "\n",
    "  try:\n",
    "    service = build(\"sheets\", \"v4\", credentials=creds)\n",
    "\n",
    "    # Call the Sheets API\n",
    "    sheet = service.spreadsheets()\n",
    "    result = (\n",
    "      sheet.values()\n",
    "      .get(spreadsheetId=SAMPLE_SPREADSHEET_ID, range=SAMPLE_RANGE_NAME)\n",
    "      .execute()\n",
    "    )\n",
    "    values = result.get(\"values\", [])\n",
    "    #print(values)\n",
    "    valor = stocks_df(stocks).values.tolist()\n",
    "    \n",
    "\n",
    "    # Update values\n",
    "    result = (\n",
    "      sheet.values()\n",
    "      .update(spreadsheetId= SAMPLE_SPREADSHEET_ID, range=f'Data!A{len(values)+1}', valueInputOption=\"RAW\", body={\"values\": valor})\n",
    "      .execute()\n",
    "    )\n",
    "\n",
    "  except HttpError as err:\n",
    "    print(err)\n",
    "\n",
    "\n",
    "\n",
    "if __name__ == \"__main__\":\n",
    "  main() "
   ]
  }
 ],
 "metadata": {
  "kernelspec": {
   "display_name": "Python 3",
   "language": "python",
   "name": "python3"
  },
  "language_info": {
   "codemirror_mode": {
    "name": "ipython",
    "version": 3
   },
   "file_extension": ".py",
   "mimetype": "text/x-python",
   "name": "python",
   "nbconvert_exporter": "python",
   "pygments_lexer": "ipython3",
   "version": "3.10.11"
  }
 },
 "nbformat": 4,
 "nbformat_minor": 2
}
